{
 "cells": [
  {
   "cell_type": "code",
   "execution_count": 34,
   "id": "bfa1ad51",
   "metadata": {},
   "outputs": [],
   "source": [
    "import requests\n",
    "import json\n",
    "import pandas as pd \n",
    "\n",
    "import warnings #Para que no nos salgan los warnings\n",
    "warnings.filterwarnings(\"ignore\")"
   ]
  },
  {
   "cell_type": "code",
   "execution_count": 2,
   "id": "a5821aed",
   "metadata": {},
   "outputs": [],
   "source": [
    "url=\"https://ergast.com/api/f1/2022/22/results.json\"\n",
    "response=requests.get(url)"
   ]
  },
  {
   "cell_type": "code",
   "execution_count": 3,
   "id": "693d2772",
   "metadata": {},
   "outputs": [],
   "source": [
    "content=json.loads(response.content)"
   ]
  },
  {
   "cell_type": "code",
   "execution_count": 35,
   "id": "495017f1",
   "metadata": {
    "scrolled": true
   },
   "outputs": [],
   "source": [
    "df_results_2022=pd.DataFrame()\n",
    "for race in list(range(1,23)):\n",
    "    url=\"https://ergast.com/api/f1/2022/{}/results.json\"\n",
    "    response=requests.get(url.format(race))\n",
    "    content=json.loads(response.content)\n",
    "    df_results_2022=df_results_2022.append(pd.DataFrame(content[\"MRData\"][\"RaceTable\"][\"Races\"][0][\"Results\"]))"
   ]
  },
  {
   "cell_type": "code",
   "execution_count": 16,
   "id": "92ce2812",
   "metadata": {},
   "outputs": [],
   "source": [
    "#df_results_2022[\"Driver\"][\"driverId\"]\n",
    "df_results_2022[\"Driver\"]= df_results_2022[\"Driver\"].apply(lambda x: x[\"driverId\"])"
   ]
  },
  {
   "cell_type": "code",
   "execution_count": 43,
   "id": "f08045fe",
   "metadata": {},
   "outputs": [],
   "source": [
    "df_results_2022[\"points\"]=df_results_2022[\"points\"].astype(int)"
   ]
  },
  {
   "cell_type": "code",
   "execution_count": 56,
   "id": "61e65301",
   "metadata": {},
   "outputs": [
    {
     "data": {
      "text/html": [
       "<div>\n",
       "<style scoped>\n",
       "    .dataframe tbody tr th:only-of-type {\n",
       "        vertical-align: middle;\n",
       "    }\n",
       "\n",
       "    .dataframe tbody tr th {\n",
       "        vertical-align: top;\n",
       "    }\n",
       "\n",
       "    .dataframe thead th {\n",
       "        text-align: right;\n",
       "    }\n",
       "</style>\n",
       "<table border=\"1\" class=\"dataframe\">\n",
       "  <thead>\n",
       "    <tr style=\"text-align: right;\">\n",
       "      <th></th>\n",
       "      <th>points</th>\n",
       "    </tr>\n",
       "    <tr>\n",
       "      <th>position</th>\n",
       "      <th></th>\n",
       "    </tr>\n",
       "  </thead>\n",
       "  <tbody>\n",
       "    <tr>\n",
       "      <th>1</th>\n",
       "      <td>557</td>\n",
       "    </tr>\n",
       "    <tr>\n",
       "      <th>2</th>\n",
       "      <td>402</td>\n",
       "    </tr>\n",
       "    <tr>\n",
       "      <th>3</th>\n",
       "      <td>331</td>\n",
       "    </tr>\n",
       "    <tr>\n",
       "      <th>4</th>\n",
       "      <td>265</td>\n",
       "    </tr>\n",
       "    <tr>\n",
       "      <th>5</th>\n",
       "      <td>222</td>\n",
       "    </tr>\n",
       "    <tr>\n",
       "      <th>6</th>\n",
       "      <td>179</td>\n",
       "    </tr>\n",
       "    <tr>\n",
       "      <th>7</th>\n",
       "      <td>132</td>\n",
       "    </tr>\n",
       "    <tr>\n",
       "      <th>8</th>\n",
       "      <td>88</td>\n",
       "    </tr>\n",
       "    <tr>\n",
       "      <th>9</th>\n",
       "      <td>44</td>\n",
       "    </tr>\n",
       "    <tr>\n",
       "      <th>10</th>\n",
       "      <td>22</td>\n",
       "    </tr>\n",
       "    <tr>\n",
       "      <th>18</th>\n",
       "      <td>0</td>\n",
       "    </tr>\n",
       "    <tr>\n",
       "      <th>17</th>\n",
       "      <td>0</td>\n",
       "    </tr>\n",
       "    <tr>\n",
       "      <th>20</th>\n",
       "      <td>0</td>\n",
       "    </tr>\n",
       "    <tr>\n",
       "      <th>16</th>\n",
       "      <td>0</td>\n",
       "    </tr>\n",
       "    <tr>\n",
       "      <th>15</th>\n",
       "      <td>0</td>\n",
       "    </tr>\n",
       "    <tr>\n",
       "      <th>14</th>\n",
       "      <td>0</td>\n",
       "    </tr>\n",
       "    <tr>\n",
       "      <th>13</th>\n",
       "      <td>0</td>\n",
       "    </tr>\n",
       "    <tr>\n",
       "      <th>12</th>\n",
       "      <td>0</td>\n",
       "    </tr>\n",
       "    <tr>\n",
       "      <th>11</th>\n",
       "      <td>0</td>\n",
       "    </tr>\n",
       "    <tr>\n",
       "      <th>19</th>\n",
       "      <td>0</td>\n",
       "    </tr>\n",
       "  </tbody>\n",
       "</table>\n",
       "</div>"
      ],
      "text/plain": [
       "          points\n",
       "position        \n",
       "1            557\n",
       "2            402\n",
       "3            331\n",
       "4            265\n",
       "5            222\n",
       "6            179\n",
       "7            132\n",
       "8             88\n",
       "9             44\n",
       "10            22\n",
       "18             0\n",
       "17             0\n",
       "20             0\n",
       "16             0\n",
       "15             0\n",
       "14             0\n",
       "13             0\n",
       "12             0\n",
       "11             0\n",
       "19             0"
      ]
     },
     "execution_count": 56,
     "metadata": {},
     "output_type": "execute_result"
    }
   ],
   "source": [
    "df_results_2022.groupby(\"position\").agg({\"points\":\"sum\"}).sort_values(by=\"points\",ascending=False)"
   ]
  },
  {
   "cell_type": "code",
   "execution_count": 50,
   "id": "9d00f6c4",
   "metadata": {},
   "outputs": [
    {
     "data": {
      "text/plain": [
       "position\n",
       "1     557\n",
       "2     402\n",
       "3     331\n",
       "4     265\n",
       "5     222\n",
       "6     179\n",
       "7     132\n",
       "8      88\n",
       "9      44\n",
       "10     22\n",
       "18      0\n",
       "17      0\n",
       "20      0\n",
       "16      0\n",
       "15      0\n",
       "14      0\n",
       "13      0\n",
       "12      0\n",
       "11      0\n",
       "19      0\n",
       "Name: points, dtype: int64"
      ]
     },
     "execution_count": 50,
     "metadata": {},
     "output_type": "execute_result"
    }
   ],
   "source": [
    "df_results_2022.groupby(\"position\")[\"points\"].sum().sort_values(ascending=False)"
   ]
  },
  {
   "cell_type": "code",
   "execution_count": null,
   "id": "f818db2e",
   "metadata": {},
   "outputs": [],
   "source": []
  }
 ],
 "metadata": {
  "kernelspec": {
   "display_name": "Python 3 (ipykernel)",
   "language": "python",
   "name": "python3"
  },
  "language_info": {
   "codemirror_mode": {
    "name": "ipython",
    "version": 3
   },
   "file_extension": ".py",
   "mimetype": "text/x-python",
   "name": "python",
   "nbconvert_exporter": "python",
   "pygments_lexer": "ipython3",
   "version": "3.9.13"
  }
 },
 "nbformat": 4,
 "nbformat_minor": 5
}
